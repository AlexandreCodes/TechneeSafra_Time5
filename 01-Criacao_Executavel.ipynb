{
 "cells": [
  {
   "cell_type": "markdown",
   "metadata": {},
   "source": [
    "# Carga do modelo, conexão com o banco, execução e output da classificação de volta para o banco\n",
    "### Equipe 5 - Safra Hackers\n",
    "\n"
   ]
  },
  {
   "cell_type": "markdown",
   "metadata": {},
   "source": [
    "## Declaração de funções"
   ]
  },
  {
   "cell_type": "code",
   "execution_count": 137,
   "metadata": {},
   "outputs": [],
   "source": [
    "def insert_data(mycursor_,result_,clusters_,ldict_):\n",
    "    for i in range(len(result_)):\n",
    "        sql = \"INSERT INTO safra.modelo (conta, saida,entrada,cluster) VALUES ('{0}',{1},{2},'{3}')\".format(result[i][0],result[i][1],result[i][2],ldict_[clusters_[i]])\n",
    "        val = (\"John\", \"Highway 21\")\n",
    "        mycursor_.execute(sql)\n",
    "        mydb.commit()\n",
    "        \n",
    "def create_connection(host_,user_,password_,database_):\n",
    "    conn = mysql.connector.connect(\n",
    "      host=host_,\n",
    "      user=user_,\n",
    "      password=password_,\n",
    "      database=database_\n",
    "    )\n",
    "    return conn"
   ]
  },
  {
   "cell_type": "markdown",
   "metadata": {},
   "source": [
    "## Declarando Bibliotecas"
   ]
  },
  {
   "cell_type": "code",
   "execution_count": 140,
   "metadata": {},
   "outputs": [],
   "source": [
    "import mysql.connector\n",
    "import pickle\n",
    "\n",
    "from sklearn.cluster import KMeans\n",
    "from configparser import ConfigParser"
   ]
  },
  {
   "cell_type": "markdown",
   "metadata": {},
   "source": [
    "## Lendo arquivo de configuração e conectando ao banco de dados"
   ]
  },
  {
   "cell_type": "code",
   "execution_count": 148,
   "metadata": {},
   "outputs": [],
   "source": [
    "config_object = ConfigParser()\n",
    "config_object.read(\"config.ini\")\n",
    "\n",
    "mydb = create_connection(host_=config_object['CONN_STRING'][\"host\"],\n",
    "                         user_=config_object['CONN_STRING'][\"user\"],\n",
    "                         password_=config_object['CONN_STRING'][\"password\"],\n",
    "                         database_=config_object['CONN_STRING'][\"database\"]\n",
    "                        )\n"
   ]
  },
  {
   "cell_type": "markdown",
   "metadata": {},
   "source": [
    "### Leitura dos dados de conta e balanços"
   ]
  },
  {
   "cell_type": "code",
   "execution_count": 107,
   "metadata": {},
   "outputs": [],
   "source": [
    "cursor = mydb.cursor()\n",
    "cursor.execute(\"SELECT conta,saida,entrada FROM safra.transferencias\")"
   ]
  },
  {
   "cell_type": "code",
   "execution_count": 108,
   "metadata": {},
   "outputs": [
    {
     "name": "stdout",
     "output_type": "stream",
     "text": [
      "('C01', 450.0, 500.0)\n",
      "('C02', 1680.0, 1500.0)\n"
     ]
    }
   ],
   "source": [
    "result = cursor.fetchall()\n",
    "\n",
    "for x in result:\n",
    "    print(x)"
   ]
  },
  {
   "cell_type": "markdown",
   "metadata": {},
   "source": [
    "## Preparando entrada do modelo"
   ]
  },
  {
   "cell_type": "code",
   "execution_count": 111,
   "metadata": {},
   "outputs": [],
   "source": [
    "kmeans_input = [[res[1],res[2]] for res in result]"
   ]
  },
  {
   "cell_type": "markdown",
   "metadata": {},
   "source": [
    "## Carga do modelo e predição"
   ]
  },
  {
   "cell_type": "code",
   "execution_count": 112,
   "metadata": {},
   "outputs": [],
   "source": [
    "loaded_model = pickle.load(open('Kmeans.sav', 'rb'))"
   ]
  },
  {
   "cell_type": "code",
   "execution_count": 119,
   "metadata": {},
   "outputs": [],
   "source": [
    "clusters = loaded_model.predict(kmeans_input)"
   ]
  },
  {
   "cell_type": "markdown",
   "metadata": {},
   "source": [
    "## Inserção dos resultados de volta na base"
   ]
  },
  {
   "cell_type": "code",
   "execution_count": 116,
   "metadata": {},
   "outputs": [],
   "source": [
    "#dicionário da indicação do kmeans\n",
    "ldict = {0: 'Neutro Perfil 1', 1: 'Investidor', 2: 'Inadimplente',3: 'Possivel Inadimplente',4: 'Possivel Investidor', 5: 'Neutro Perfil 2'}"
   ]
  },
  {
   "cell_type": "code",
   "execution_count": 136,
   "metadata": {},
   "outputs": [
    {
     "name": "stdout",
     "output_type": "stream",
     "text": [
      "dados inseridos\n"
     ]
    }
   ],
   "source": [
    "mycursor = mydb.cursor()\n",
    "\n",
    "insert_data(mycursor,result,clusters,ldict)"
   ]
  }
 ],
 "metadata": {
  "kernelspec": {
   "display_name": "Python 3",
   "language": "python",
   "name": "python3"
  },
  "language_info": {
   "codemirror_mode": {
    "name": "ipython",
    "version": 3
   },
   "file_extension": ".py",
   "mimetype": "text/x-python",
   "name": "python",
   "nbconvert_exporter": "python",
   "pygments_lexer": "ipython3",
   "version": "3.7.4"
  }
 },
 "nbformat": 4,
 "nbformat_minor": 2
}
