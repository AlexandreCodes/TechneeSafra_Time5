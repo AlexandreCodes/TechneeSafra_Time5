{
 "cells": [
  {
   "cell_type": "code",
   "execution_count": 171,
   "metadata": {},
   "outputs": [],
   "source": [
    "def convert_amount(row):\n",
    "    \"\"\" Função para tornar negativos valores de saída da conta\"\"\"\n",
    "    op_type = row[\"type\"]\n",
    "    # Apenas o tipo CASH_IN debita valores da conta\n",
    "    out_op_types = [\"CASH_IN\"]\n",
    "    amount = row[\"amount\"]\n",
    "    row[\"amount\"] = -amount if op_type in out_op_types else amount\n",
    "   \n",
    "    return row\n",
    "\n",
    "def old_balance_fix(data):\n",
    "    \"\"\" Função para correção do dataset. A informação de saldo vem \n",
    "    em alguns casos\"\"\"\n",
    "    # Para correção, precisamos olhar o saldo final do dia anterior\n",
    "    # Saldo final do dia anterior = Saldo inicial do dia seguinte\n",
    "    \n",
    "    # Necessário ordenar o dataset por conta e período para o \n",
    "    # iloc[index - 1] coletar o dia anterios daquela conta específica\n",
    "    \n",
    "    data = data.sort_values([\"nameDest\", \"time_refer\"])\n",
    "    instances_qtd = len(data)\n",
    "    \n",
    "    for index in range(instances_qtd):\n",
    "        row = data.iloc[index]\n",
    "        if row[\"oldbalanceDest\"] == 0.00 and row[\"time_refer\"] != 1:\n",
    "            prev_balance = data.iloc[index - 1]\n",
    "            data.loc[(model_data['nameDest'] == row['nameDest']) & (model_data['oldbalanceDest'] == 0.00), \"newbalanceDest\"] = row[\"newbalanceDest\"] + prev_balance[\"newbalanceDest\"]\n",
    "            data.loc[(model_data['nameDest'] == row['nameDest']) & (model_data['oldbalanceDest'] == 0.00), \"oldbalanceDest\"] = prev_balance[\"newbalanceDest\"]\n",
    "        elif row[\"oldbalanceDest\"] == 0.00 and row[\"time_refer\"] == 1:\n",
    "            data.loc[(model_data['nameDest'] == row['nameDest']) & (model_data['oldbalanceDest'] == 0.00), \"oldbalanceDest\"] = 1.00\n",
    "    return data\n",
    "\n",
    "def calculate_wcss(data):\n",
    "    \"\"\" Ajustar diversos K-means e coletar o valor\n",
    "    da inércia de todos ajustes.\"\"\"\n",
    "    wcss = []\n",
    "    for n in range(2, 21):\n",
    "        kmeans = KMeans(n_clusters=n)\n",
    "        kmeans.fit(X=data)\n",
    "        wcss.append(kmeans.inertia_)\n",
    "\n",
    "    return wcss\n",
    "    \n",
    "def get_best_number_clusters(wcss):\n",
    "    \"\"\"Traçar uma reta virtual entre os extremos da curva\n",
    "    da inércia e calcular o N mais se aproxima dessa reta\"\"\"\n",
    "    x1, y1 = 2, wcss[0]\n",
    "    x2, y2 = 20, wcss[len(wcss)-1]\n",
    "\n",
    "    distances = []\n",
    "    for i in range(len(wcss)):\n",
    "        x0 = i+2\n",
    "        y0 = wcss[i]\n",
    "        numerator = abs((y2-y1)*x0 - (x2-x1)*y0 + x2*y1 - y2*x1)\n",
    "        denominator = sqrt((y2 - y1)**2 + (x2 - x1)**2)\n",
    "        distances.append(numerator/denominator)\n",
    "    \n",
    "    return distances.index(max(distances)) + 2\n",
    "    \n",
    "def hier(x_train_, n_clusters):\n",
    "    \"\"\" Treino e plot de um modelo não supervisionado baseado \n",
    "    em algoritmo    hierárquico\"\"\"\n",
    "    ss = StandardScaler()\n",
    "    x_train_scale = ss.fit_transform(x_train_)\n",
    "    hier = AgglomerativeClustering(n_clusters=n_clusters)\n",
    "    y_pred = hier.fit_predict(x_train_scale)\n",
    "\n",
    "    plt.scatter(x_train_[('amount', 'IN')], x_train_[('amount', 'OUT')], \n",
    "                c=y_pred, cmap='Paired')\n",
    "\n",
    "    plt.title(\"Hierarchical\")\n",
    "    plt.legend()\n",
    "    ax.set_xlabel('IN')\n",
    "    ax.set_ylabel('OUT')\n",
    "    return hier\n",
    "\n",
    "def kmeans(x_train_, n):\n",
    "    \"\"\" Treino e plot de um modelo baseado em algoritmo\n",
    "    hierárquico\"\"\"\n",
    "    model = KMeans(n_clusters=n, random_state=42)\n",
    "    ss = StandardScaler()\n",
    "    x_train_scale = ss.fit_transform(x_train_)\n",
    "    model.fit(x_train_scale)\n",
    "\n",
    "    x_train_['kmeans'] = model.labels_\n",
    "\n",
    "    group = np.array([0,1,2,3,4,5])\n",
    "    cdict = {0: 'pink', 1: 'gold', 2: 'firebrick',3: 'lime',4: 'red', 5: 'green'}\n",
    "    ldict = {0: 'Neutro', 1: 'Neutro', 2: 'Possivel Inadiplente',3: 'Investidor',4: 'Inadiplente', 5: 'Possivel Investidor'}\n",
    "    \n",
    "    fig = plt.figure(figsize=(15,6))\n",
    "    ax = fig.add_subplot(111)\n",
    "    for g in group:\n",
    "        #ix = np.where(group == g)\n",
    "        #ax.scatter(scatter_x[ix], scatter_y[ix], c = cdict[g], label = g, s = 100)\n",
    "        ax.scatter(x_train_[('amount', 'IN')].loc[x_train_['kmeans']==g], \n",
    "                         x_train_[('amount', 'OUT')].loc[x_train_['kmeans']==g], \n",
    "                         c=cdict[g], \n",
    "                         s=50, \n",
    "                         label=g#ldict[g]\n",
    "                        )\n",
    "\n",
    "    plt.legend()\n",
    "  \n",
    "\n",
    "    ax.set_title('Clustering')\n",
    "    ax.set_xlabel('IN')\n",
    "    ax.set_ylabel('OUT')\n",
    "    return model\n",
    "\n",
    "def kmeans_test(x_test_, model_, cdict_, ldict_):\n",
    "    \"\"\" Treino e plot de um modelo baseado em algoritmo\n",
    "    hierárquico\"\"\"\n",
    "    ss = StandardScaler()\n",
    "    x_test_scale = ss.fit_transform(x_test_)\n",
    "   # model_.predict(x_test_scale)\n",
    "\n",
    "    x_test_['kmeans'] =  model_.predict(x_test_scale)\n",
    "\n",
    "    group = np.array([0,1,2,3,4,5])\n",
    "    \n",
    "    fig = plt.figure(figsize=(15,6))\n",
    "    ax = fig.add_subplot(111)\n",
    "    for g in group:\n",
    "        #ix = np.where(group == g)\n",
    "        #ax.scatter(scatter_x[ix], scatter_y[ix], c = cdict[g], label = g, s = 100)\n",
    "        ax.scatter(x_test_[('amount', 'IN')].loc[x_test_['kmeans']==g], \n",
    "                         x_test_[('amount', 'OUT')].loc[x_test_['kmeans']==g], \n",
    "                         c=cdict_[g], \n",
    "                         s=50, \n",
    "                         label=ldict_[g]\n",
    "                        )\n",
    "\n",
    "    plt.legend()\n",
    "  \n",
    "\n",
    "    ax.set_title('Clustering')\n",
    "    ax.set_xlabel('IN')\n",
    "    ax.set_ylabel('OUT')\n",
    "    return model\n",
    "\n",
    "\n",
    "def kmeans_norm(x_train_, n):\n",
    "    \"\"\" Treino e plot de um modelo baseado em algoritmo\n",
    "    hierárquico\"\"\"\n",
    "    model = KMeans(n_clusters=n, random_state=42)\n",
    "    ss = StandardScaler()\n",
    "    x_train_scale = ss.fit_transform(x_train_)\n",
    "    model.fit(x_train_scale)\n",
    "\n",
    "    x_train_['kmeans'] = model.labels_\n",
    "\n",
    "    fig = plt.figure(figsize=(15,6))\n",
    "    ax = fig.add_subplot(111)\n",
    "    scatter = ax.scatter(x_train_scale[:,0], \n",
    "                         x_train_scale[:,1], \n",
    "                         c=x_train_['kmeans'], \n",
    "                         s=50, \n",
    "                        )\n",
    "\n",
    "    plt.legend()\n",
    "    ax.set_title('Clustering')\n",
    "    ax.set_xlabel('IN')\n",
    "    ax.set_ylabel('OUT')\n",
    "    return model\n",
    "    "
   ]
  },
  {
   "cell_type": "markdown",
   "metadata": {},
   "source": [
    "# Criação do banco de dados simulado para o Technee Banco Safra\n",
    "### Equipe 5 - Safra Hackers\n",
    "\n",
    "#### Link para download do dataset original:\n",
    "#### https://www.kaggle.com/ntnu-testimon/paysim1\n",
    "\n",
    "\n",
    "### 1. Importação de Pacotes"
   ]
  },
  {
   "cell_type": "code",
   "execution_count": 68,
   "metadata": {},
   "outputs": [],
   "source": [
    "import pandas as pd\n",
    "import seaborn as sns\n",
    "import numpy as np\n",
    "import matplotlib.pyplot as plt\n",
    "\n",
    "from sklearn.cluster import KMeans\n",
    "from sklearn.model_selection import train_test_split\n",
    "from sklearn.preprocessing import StandardScaler\n",
    "\n",
    "from math import sqrt\n",
    "\n",
    "sns.set()"
   ]
  },
  {
   "cell_type": "markdown",
   "metadata": {},
   "source": [
    "### 2. Classes e funções"
   ]
  },
  {
   "cell_type": "markdown",
   "metadata": {},
   "source": [
    "### 3. Leitura da Dataset coletado"
   ]
  },
  {
   "cell_type": "code",
   "execution_count": 5,
   "metadata": {},
   "outputs": [
    {
     "data": {
      "text/html": [
       "<div>\n",
       "<style scoped>\n",
       "    .dataframe tbody tr th:only-of-type {\n",
       "        vertical-align: middle;\n",
       "    }\n",
       "\n",
       "    .dataframe tbody tr th {\n",
       "        vertical-align: top;\n",
       "    }\n",
       "\n",
       "    .dataframe thead th {\n",
       "        text-align: right;\n",
       "    }\n",
       "</style>\n",
       "<table border=\"1\" class=\"dataframe\">\n",
       "  <thead>\n",
       "    <tr style=\"text-align: right;\">\n",
       "      <th></th>\n",
       "      <th>step</th>\n",
       "      <th>type</th>\n",
       "      <th>amount</th>\n",
       "      <th>nameOrig</th>\n",
       "      <th>oldbalanceOrg</th>\n",
       "      <th>newbalanceOrig</th>\n",
       "      <th>nameDest</th>\n",
       "      <th>oldbalanceDest</th>\n",
       "      <th>newbalanceDest</th>\n",
       "      <th>isFraud</th>\n",
       "      <th>isFlaggedFraud</th>\n",
       "    </tr>\n",
       "  </thead>\n",
       "  <tbody>\n",
       "    <tr>\n",
       "      <td>0</td>\n",
       "      <td>1</td>\n",
       "      <td>PAYMENT</td>\n",
       "      <td>9839.64</td>\n",
       "      <td>C1231006815</td>\n",
       "      <td>170136.0</td>\n",
       "      <td>160296.36</td>\n",
       "      <td>M1979787155</td>\n",
       "      <td>0.0</td>\n",
       "      <td>0.0</td>\n",
       "      <td>0</td>\n",
       "      <td>0</td>\n",
       "    </tr>\n",
       "    <tr>\n",
       "      <td>1</td>\n",
       "      <td>1</td>\n",
       "      <td>PAYMENT</td>\n",
       "      <td>1864.28</td>\n",
       "      <td>C1666544295</td>\n",
       "      <td>21249.0</td>\n",
       "      <td>19384.72</td>\n",
       "      <td>M2044282225</td>\n",
       "      <td>0.0</td>\n",
       "      <td>0.0</td>\n",
       "      <td>0</td>\n",
       "      <td>0</td>\n",
       "    </tr>\n",
       "    <tr>\n",
       "      <td>2</td>\n",
       "      <td>1</td>\n",
       "      <td>TRANSFER</td>\n",
       "      <td>181.00</td>\n",
       "      <td>C1305486145</td>\n",
       "      <td>181.0</td>\n",
       "      <td>0.00</td>\n",
       "      <td>C553264065</td>\n",
       "      <td>0.0</td>\n",
       "      <td>0.0</td>\n",
       "      <td>1</td>\n",
       "      <td>0</td>\n",
       "    </tr>\n",
       "    <tr>\n",
       "      <td>3</td>\n",
       "      <td>1</td>\n",
       "      <td>CASH_OUT</td>\n",
       "      <td>181.00</td>\n",
       "      <td>C840083671</td>\n",
       "      <td>181.0</td>\n",
       "      <td>0.00</td>\n",
       "      <td>C38997010</td>\n",
       "      <td>21182.0</td>\n",
       "      <td>0.0</td>\n",
       "      <td>1</td>\n",
       "      <td>0</td>\n",
       "    </tr>\n",
       "    <tr>\n",
       "      <td>4</td>\n",
       "      <td>1</td>\n",
       "      <td>PAYMENT</td>\n",
       "      <td>11668.14</td>\n",
       "      <td>C2048537720</td>\n",
       "      <td>41554.0</td>\n",
       "      <td>29885.86</td>\n",
       "      <td>M1230701703</td>\n",
       "      <td>0.0</td>\n",
       "      <td>0.0</td>\n",
       "      <td>0</td>\n",
       "      <td>0</td>\n",
       "    </tr>\n",
       "  </tbody>\n",
       "</table>\n",
       "</div>"
      ],
      "text/plain": [
       "   step      type    amount     nameOrig  oldbalanceOrg  newbalanceOrig  \\\n",
       "0     1   PAYMENT   9839.64  C1231006815       170136.0       160296.36   \n",
       "1     1   PAYMENT   1864.28  C1666544295        21249.0        19384.72   \n",
       "2     1  TRANSFER    181.00  C1305486145          181.0            0.00   \n",
       "3     1  CASH_OUT    181.00   C840083671          181.0            0.00   \n",
       "4     1   PAYMENT  11668.14  C2048537720        41554.0        29885.86   \n",
       "\n",
       "      nameDest  oldbalanceDest  newbalanceDest  isFraud  isFlaggedFraud  \n",
       "0  M1979787155             0.0             0.0        0               0  \n",
       "1  M2044282225             0.0             0.0        0               0  \n",
       "2   C553264065             0.0             0.0        1               0  \n",
       "3    C38997010         21182.0             0.0        1               0  \n",
       "4  M1230701703             0.0             0.0        0               0  "
      ]
     },
     "execution_count": 5,
     "metadata": {},
     "output_type": "execute_result"
    }
   ],
   "source": [
    "file_name = 'C:\\\\Users\\\\alexa\\\\Documents\\\\Safra\\\\PS_20174392719_1491204439457_log.csv'\n",
    "fin_data = pd.read_csv(file_name)\n",
    "fin_data.head()"
   ]
  },
  {
   "cell_type": "markdown",
   "metadata": {},
   "source": [
    "### 4. Removendo as fraudes"
   ]
  },
  {
   "cell_type": "code",
   "execution_count": 6,
   "metadata": {},
   "outputs": [],
   "source": [
    "fin_data = fin_data[fin_data['isFraud']==0]"
   ]
  },
  {
   "cell_type": "markdown",
   "metadata": {},
   "source": [
    "#### Os emissores dos pagamentos não são significativos, são sempre únicos nesse dataset:"
   ]
  },
  {
   "cell_type": "code",
   "execution_count": 7,
   "metadata": {},
   "outputs": [
    {
     "name": "stdout",
     "output_type": "stream",
     "text": [
      "Qtd de instâncias = 6354407\n",
      "Qtd de emissores únicos = 6345122\n"
     ]
    }
   ],
   "source": [
    "qty_rows = len(fin_data)\n",
    "qty_orig = len(fin_data['nameOrig'].unique())\n",
    "\n",
    "print(f\"Qtd de instâncias = {qty_rows}\")\n",
    "print(f\"Qtd de emissores únicos = {qty_orig}\")     "
   ]
  },
  {
   "cell_type": "markdown",
   "metadata": {},
   "source": [
    "#### Os nomes de conta destino já tem contas com mais de uma transferência, \n",
    "#### podemos agrupar esse público:"
   ]
  },
  {
   "cell_type": "code",
   "execution_count": 8,
   "metadata": {},
   "outputs": [
    {
     "name": "stdout",
     "output_type": "stream",
     "text": [
      "Qtd de instâncias = 6354407\n",
      "Qtd de destinatários únicos = 2719685\n"
     ]
    }
   ],
   "source": [
    "qty_dest = len(fin_data['nameDest'].unique())\n",
    "\n",
    "print(f\"Qtd de instâncias = {qty_rows}\")\n",
    "print(f\"Qtd de destinatários únicos = {qty_dest}\")   "
   ]
  },
  {
   "cell_type": "markdown",
   "metadata": {},
   "source": [
    "### 5. Agrupando a quantidade de transferências pela \"conta destino\" do dataset"
   ]
  },
  {
   "cell_type": "code",
   "execution_count": 9,
   "metadata": {},
   "outputs": [
    {
     "data": {
      "text/plain": [
       "C1286084959    113\n",
       "C985934102     109\n",
       "C665576141     105\n",
       "C2083562754    102\n",
       "C248609774     101\n",
       "              ... \n",
       "M1211141914      1\n",
       "M794870740       1\n",
       "M1091419542      1\n",
       "M1226374887      1\n",
       "M1883237937      1\n",
       "Name: nameDest, Length: 2719685, dtype: int64"
      ]
     },
     "execution_count": 9,
     "metadata": {},
     "output_type": "execute_result"
    }
   ],
   "source": [
    "fin_data['nameDest'].value_counts()"
   ]
  },
  {
   "cell_type": "code",
   "execution_count": 10,
   "metadata": {},
   "outputs": [],
   "source": [
    "dest_counts = fin_data['nameDest'].value_counts()"
   ]
  },
  {
   "cell_type": "markdown",
   "metadata": {},
   "source": [
    "### 2.2 Milhões das amostras são de contas que receberam somente 1 transferência em todo dataset\n",
    "#### Não é interessante usar dados de contas com poucas transferências"
   ]
  },
  {
   "cell_type": "code",
   "execution_count": 11,
   "metadata": {},
   "outputs": [
    {
     "data": {
      "text/plain": [
       "1     2260777\n",
       "2       76818\n",
       "3       57210\n",
       "4       45030\n",
       "5       36770\n",
       "6       30396\n",
       "7       25760\n",
       "8       21901\n",
       "9       18605\n",
       "10      16310\n",
       "Name: nameDest, dtype: int64"
      ]
     },
     "execution_count": 11,
     "metadata": {},
     "output_type": "execute_result"
    }
   ],
   "source": [
    "dest_counts.value_counts().head(10)"
   ]
  },
  {
   "cell_type": "markdown",
   "metadata": {},
   "source": [
    "### 6. Tipos de transação"
   ]
  },
  {
   "cell_type": "code",
   "execution_count": 12,
   "metadata": {},
   "outputs": [
    {
     "data": {
      "text/plain": [
       "0       PAYMENT\n",
       "9         DEBIT\n",
       "15     CASH_OUT\n",
       "19     TRANSFER\n",
       "389     CASH_IN\n",
       "Name: type, dtype: object"
      ]
     },
     "execution_count": 12,
     "metadata": {},
     "output_type": "execute_result"
    }
   ],
   "source": [
    "fin_data['type'].drop_duplicates()"
   ]
  },
  {
   "cell_type": "markdown",
   "metadata": {},
   "source": [
    "### 7.Vendo perfil das contas que tem mais transferências"
   ]
  },
  {
   "cell_type": "code",
   "execution_count": 13,
   "metadata": {},
   "outputs": [
    {
     "data": {
      "text/plain": [
       "C1286084959    113\n",
       "C985934102     109\n",
       "C665576141     105\n",
       "C2083562754    102\n",
       "C248609774     101\n",
       "C1590550415    101\n",
       "C451111351      99\n",
       "C1789550256     99\n",
       "C1360767589     98\n",
       "C1023714065     97\n",
       "Name: nameDest, dtype: int64"
      ]
     },
     "execution_count": 13,
     "metadata": {},
     "output_type": "execute_result"
    }
   ],
   "source": [
    "dest_counts[:10]"
   ]
  },
  {
   "cell_type": "markdown",
   "metadata": {},
   "source": [
    "#### 1205 contas tem pelo menos 50 transferências:"
   ]
  },
  {
   "cell_type": "code",
   "execution_count": 14,
   "metadata": {},
   "outputs": [
    {
     "name": "stdout",
     "output_type": "stream",
     "text": [
      "Qtd de contas com mais de 50 transferências:  1205\n"
     ]
    }
   ],
   "source": [
    "print(\"Qtd de contas com mais de 50 transferências: \",\n",
    "      dest_counts[dest_counts>=50].shape[0])\n"
   ]
  },
  {
   "cell_type": "markdown",
   "metadata": {},
   "source": [
    "### 8. Selecionando contas com mais de 50 transferências e filtrando as colunas"
   ]
  },
  {
   "cell_type": "code",
   "execution_count": 15,
   "metadata": {},
   "outputs": [],
   "source": [
    "top_accounts = dest_counts[dest_counts>=50].index\n",
    "model_data = fin_data[fin_data['nameDest'].isin(top_accounts)]"
   ]
  },
  {
   "cell_type": "code",
   "execution_count": 16,
   "metadata": {},
   "outputs": [],
   "source": [
    "# Colunas para manter no dataset\n",
    "col_keep = ['step', 'nameDest','type','amount',\n",
    "            'oldbalanceDest','newbalanceDest']\n",
    "model_data = model_data[col_keep]"
   ]
  },
  {
   "cell_type": "code",
   "execution_count": 18,
   "metadata": {},
   "outputs": [],
   "source": [
    "# Separação do que é tipo de operação de entrada na conta (positivo)\n",
    "# e saída (negativo)\n",
    "in_operations =  [\"TRANSFER\", \"PAYMENT\", \"CASH_OUT\", \"DEBIT\"]\n",
    "out_operations = [\"CASH_IN\"]\n",
    "\n",
    "# Convertendo valores de saída para negativos,ajustando coluna de newbalanceDest\n",
    "# que contém erros, criando uma refência temporal como se cada transação fosse\n",
    "# realizada no dia seguinte, e criação da coluna da variação do valor da conta\n",
    "# após a operação.\n",
    "model_data = model_data.apply(convert_amount, axis=1)\n",
    "model_data[\"newbalanceDest\"] = model_data[\"oldbalanceDest\"] + model_data[\"amount\"]\n",
    "model_data['time_refer'] = model_data.groupby(\"nameDest\").cumcount() + 1\n",
    "model_data = old_balance_fix(model_data)\n",
    "model_data[\"relative_delta\"] = model_data[\"amount\"] / model_data[\"oldbalanceDest\"]\n",
    "\n",
    "# Agrupamento de operações em \"IN\"/OUT\n",
    "model_data.loc[model_data['type'].isin(in_operations), \"type\"] = \"IN\"\n",
    "model_data.loc[model_data['type'].isin(out_operations), \"type\"] = \"OUT\""
   ]
  },
  {
   "cell_type": "markdown",
   "metadata": {},
   "source": [
    "### 9. Cliente exemplo do dataset final:"
   ]
  },
  {
   "cell_type": "code",
   "execution_count": 19,
   "metadata": {},
   "outputs": [
    {
     "data": {
      "text/html": [
       "<div>\n",
       "<style scoped>\n",
       "    .dataframe tbody tr th:only-of-type {\n",
       "        vertical-align: middle;\n",
       "    }\n",
       "\n",
       "    .dataframe tbody tr th {\n",
       "        vertical-align: top;\n",
       "    }\n",
       "\n",
       "    .dataframe thead th {\n",
       "        text-align: right;\n",
       "    }\n",
       "</style>\n",
       "<table border=\"1\" class=\"dataframe\">\n",
       "  <thead>\n",
       "    <tr style=\"text-align: right;\">\n",
       "      <th></th>\n",
       "      <th>step</th>\n",
       "      <th>nameDest</th>\n",
       "      <th>type</th>\n",
       "      <th>amount</th>\n",
       "      <th>oldbalanceDest</th>\n",
       "      <th>newbalanceDest</th>\n",
       "      <th>time_refer</th>\n",
       "      <th>relative_delta</th>\n",
       "    </tr>\n",
       "  </thead>\n",
       "  <tbody>\n",
       "    <tr>\n",
       "      <td>10</td>\n",
       "      <td>1</td>\n",
       "      <td>C997608398</td>\n",
       "      <td>IN</td>\n",
       "      <td>9644.94</td>\n",
       "      <td>10845.00</td>\n",
       "      <td>20489.94</td>\n",
       "      <td>1</td>\n",
       "      <td>0.889344</td>\n",
       "    </tr>\n",
       "    <tr>\n",
       "      <td>781</td>\n",
       "      <td>1</td>\n",
       "      <td>C997608398</td>\n",
       "      <td>IN</td>\n",
       "      <td>345698.98</td>\n",
       "      <td>20489.94</td>\n",
       "      <td>366188.92</td>\n",
       "      <td>2</td>\n",
       "      <td>16.871644</td>\n",
       "    </tr>\n",
       "    <tr>\n",
       "      <td>807</td>\n",
       "      <td>1</td>\n",
       "      <td>C997608398</td>\n",
       "      <td>IN</td>\n",
       "      <td>1741.24</td>\n",
       "      <td>366188.92</td>\n",
       "      <td>367930.16</td>\n",
       "      <td>3</td>\n",
       "      <td>0.004755</td>\n",
       "    </tr>\n",
       "    <tr>\n",
       "      <td>861</td>\n",
       "      <td>1</td>\n",
       "      <td>C997608398</td>\n",
       "      <td>IN</td>\n",
       "      <td>155122.86</td>\n",
       "      <td>367930.17</td>\n",
       "      <td>523053.03</td>\n",
       "      <td>4</td>\n",
       "      <td>0.421610</td>\n",
       "    </tr>\n",
       "    <tr>\n",
       "      <td>925</td>\n",
       "      <td>1</td>\n",
       "      <td>C997608398</td>\n",
       "      <td>IN</td>\n",
       "      <td>251241.14</td>\n",
       "      <td>523053.03</td>\n",
       "      <td>774294.17</td>\n",
       "      <td>5</td>\n",
       "      <td>0.480336</td>\n",
       "    </tr>\n",
       "    <tr>\n",
       "      <td>1360</td>\n",
       "      <td>1</td>\n",
       "      <td>C997608398</td>\n",
       "      <td>IN</td>\n",
       "      <td>286803.50</td>\n",
       "      <td>774294.17</td>\n",
       "      <td>1061097.67</td>\n",
       "      <td>6</td>\n",
       "      <td>0.370406</td>\n",
       "    </tr>\n",
       "    <tr>\n",
       "      <td>1395</td>\n",
       "      <td>1</td>\n",
       "      <td>C997608398</td>\n",
       "      <td>IN</td>\n",
       "      <td>70543.76</td>\n",
       "      <td>1061097.67</td>\n",
       "      <td>1131641.43</td>\n",
       "      <td>7</td>\n",
       "      <td>0.066482</td>\n",
       "    </tr>\n",
       "    <tr>\n",
       "      <td>1706</td>\n",
       "      <td>1</td>\n",
       "      <td>C997608398</td>\n",
       "      <td>OUT</td>\n",
       "      <td>235362.23</td>\n",
       "      <td>1128757.61</td>\n",
       "      <td>1364119.84</td>\n",
       "      <td>8</td>\n",
       "      <td>0.208514</td>\n",
       "    </tr>\n",
       "    <tr>\n",
       "      <td>1718</td>\n",
       "      <td>1</td>\n",
       "      <td>C997608398</td>\n",
       "      <td>OUT</td>\n",
       "      <td>532111.14</td>\n",
       "      <td>893395.39</td>\n",
       "      <td>1425506.53</td>\n",
       "      <td>9</td>\n",
       "      <td>0.595605</td>\n",
       "    </tr>\n",
       "    <tr>\n",
       "      <td>1854</td>\n",
       "      <td>1</td>\n",
       "      <td>C997608398</td>\n",
       "      <td>IN</td>\n",
       "      <td>63557.19</td>\n",
       "      <td>361284.25</td>\n",
       "      <td>424841.44</td>\n",
       "      <td>10</td>\n",
       "      <td>0.175920</td>\n",
       "    </tr>\n",
       "    <tr>\n",
       "      <td>2068</td>\n",
       "      <td>1</td>\n",
       "      <td>C997608398</td>\n",
       "      <td>IN</td>\n",
       "      <td>79386.85</td>\n",
       "      <td>424841.44</td>\n",
       "      <td>504228.29</td>\n",
       "      <td>11</td>\n",
       "      <td>0.186862</td>\n",
       "    </tr>\n",
       "    <tr>\n",
       "      <td>2131</td>\n",
       "      <td>1</td>\n",
       "      <td>C997608398</td>\n",
       "      <td>OUT</td>\n",
       "      <td>283561.25</td>\n",
       "      <td>504228.28</td>\n",
       "      <td>787789.53</td>\n",
       "      <td>12</td>\n",
       "      <td>0.562367</td>\n",
       "    </tr>\n",
       "    <tr>\n",
       "      <td>2251</td>\n",
       "      <td>1</td>\n",
       "      <td>C997608398</td>\n",
       "      <td>OUT</td>\n",
       "      <td>62684.91</td>\n",
       "      <td>220667.03</td>\n",
       "      <td>283351.94</td>\n",
       "      <td>13</td>\n",
       "      <td>0.284070</td>\n",
       "    </tr>\n",
       "    <tr>\n",
       "      <td>4170</td>\n",
       "      <td>3</td>\n",
       "      <td>C997608398</td>\n",
       "      <td>IN</td>\n",
       "      <td>87674.26</td>\n",
       "      <td>157982.12</td>\n",
       "      <td>245656.38</td>\n",
       "      <td>14</td>\n",
       "      <td>0.554963</td>\n",
       "    </tr>\n",
       "    <tr>\n",
       "      <td>4311</td>\n",
       "      <td>4</td>\n",
       "      <td>C997608398</td>\n",
       "      <td>OUT</td>\n",
       "      <td>130708.05</td>\n",
       "      <td>245656.38</td>\n",
       "      <td>376364.43</td>\n",
       "      <td>15</td>\n",
       "      <td>0.532077</td>\n",
       "    </tr>\n",
       "    <tr>\n",
       "      <td>4330</td>\n",
       "      <td>4</td>\n",
       "      <td>C997608398</td>\n",
       "      <td>OUT</td>\n",
       "      <td>48951.75</td>\n",
       "      <td>114948.33</td>\n",
       "      <td>163900.08</td>\n",
       "      <td>16</td>\n",
       "      <td>0.425859</td>\n",
       "    </tr>\n",
       "    <tr>\n",
       "      <td>4359</td>\n",
       "      <td>4</td>\n",
       "      <td>C997608398</td>\n",
       "      <td>IN</td>\n",
       "      <td>58046.34</td>\n",
       "      <td>65996.58</td>\n",
       "      <td>124042.92</td>\n",
       "      <td>17</td>\n",
       "      <td>0.879536</td>\n",
       "    </tr>\n",
       "    <tr>\n",
       "      <td>5475</td>\n",
       "      <td>5</td>\n",
       "      <td>C997608398</td>\n",
       "      <td>IN</td>\n",
       "      <td>33985.61</td>\n",
       "      <td>124042.91</td>\n",
       "      <td>158028.52</td>\n",
       "      <td>18</td>\n",
       "      <td>0.273983</td>\n",
       "    </tr>\n",
       "    <tr>\n",
       "      <td>5585</td>\n",
       "      <td>6</td>\n",
       "      <td>C997608398</td>\n",
       "      <td>IN</td>\n",
       "      <td>139845.98</td>\n",
       "      <td>158028.52</td>\n",
       "      <td>297874.50</td>\n",
       "      <td>19</td>\n",
       "      <td>0.884941</td>\n",
       "    </tr>\n",
       "    <tr>\n",
       "      <td>5671</td>\n",
       "      <td>6</td>\n",
       "      <td>C997608398</td>\n",
       "      <td>OUT</td>\n",
       "      <td>291681.95</td>\n",
       "      <td>297874.50</td>\n",
       "      <td>589556.45</td>\n",
       "      <td>20</td>\n",
       "      <td>0.979211</td>\n",
       "    </tr>\n",
       "    <tr>\n",
       "      <td>14678</td>\n",
       "      <td>8</td>\n",
       "      <td>C997608398</td>\n",
       "      <td>IN</td>\n",
       "      <td>774963.40</td>\n",
       "      <td>6192.55</td>\n",
       "      <td>781155.95</td>\n",
       "      <td>21</td>\n",
       "      <td>125.144472</td>\n",
       "    </tr>\n",
       "    <tr>\n",
       "      <td>23351</td>\n",
       "      <td>8</td>\n",
       "      <td>C997608398</td>\n",
       "      <td>IN</td>\n",
       "      <td>17288.04</td>\n",
       "      <td>781155.95</td>\n",
       "      <td>798443.99</td>\n",
       "      <td>22</td>\n",
       "      <td>0.022131</td>\n",
       "    </tr>\n",
       "    <tr>\n",
       "      <td>28289</td>\n",
       "      <td>8</td>\n",
       "      <td>C997608398</td>\n",
       "      <td>IN</td>\n",
       "      <td>255477.34</td>\n",
       "      <td>798443.99</td>\n",
       "      <td>1053921.33</td>\n",
       "      <td>23</td>\n",
       "      <td>0.319969</td>\n",
       "    </tr>\n",
       "    <tr>\n",
       "      <td>30291</td>\n",
       "      <td>8</td>\n",
       "      <td>C997608398</td>\n",
       "      <td>IN</td>\n",
       "      <td>237497.35</td>\n",
       "      <td>1053921.33</td>\n",
       "      <td>1291418.68</td>\n",
       "      <td>24</td>\n",
       "      <td>0.225346</td>\n",
       "    </tr>\n",
       "    <tr>\n",
       "      <td>35914</td>\n",
       "      <td>9</td>\n",
       "      <td>C997608398</td>\n",
       "      <td>IN</td>\n",
       "      <td>208617.96</td>\n",
       "      <td>1291418.68</td>\n",
       "      <td>1500036.64</td>\n",
       "      <td>25</td>\n",
       "      <td>0.161542</td>\n",
       "    </tr>\n",
       "    <tr>\n",
       "      <td>43067</td>\n",
       "      <td>9</td>\n",
       "      <td>C997608398</td>\n",
       "      <td>IN</td>\n",
       "      <td>134499.76</td>\n",
       "      <td>1500036.63</td>\n",
       "      <td>1634536.39</td>\n",
       "      <td>26</td>\n",
       "      <td>0.089664</td>\n",
       "    </tr>\n",
       "    <tr>\n",
       "      <td>44682</td>\n",
       "      <td>9</td>\n",
       "      <td>C997608398</td>\n",
       "      <td>IN</td>\n",
       "      <td>570715.04</td>\n",
       "      <td>1634536.39</td>\n",
       "      <td>2205251.43</td>\n",
       "      <td>27</td>\n",
       "      <td>0.349160</td>\n",
       "    </tr>\n",
       "    <tr>\n",
       "      <td>47532</td>\n",
       "      <td>9</td>\n",
       "      <td>C997608398</td>\n",
       "      <td>IN</td>\n",
       "      <td>147225.04</td>\n",
       "      <td>2205251.43</td>\n",
       "      <td>2352476.47</td>\n",
       "      <td>28</td>\n",
       "      <td>0.066761</td>\n",
       "    </tr>\n",
       "    <tr>\n",
       "      <td>70564</td>\n",
       "      <td>9</td>\n",
       "      <td>C997608398</td>\n",
       "      <td>OUT</td>\n",
       "      <td>168545.26</td>\n",
       "      <td>2352476.47</td>\n",
       "      <td>2521021.73</td>\n",
       "      <td>29</td>\n",
       "      <td>0.071646</td>\n",
       "    </tr>\n",
       "    <tr>\n",
       "      <td>86515</td>\n",
       "      <td>10</td>\n",
       "      <td>C997608398</td>\n",
       "      <td>IN</td>\n",
       "      <td>363162.43</td>\n",
       "      <td>2183931.22</td>\n",
       "      <td>2547093.65</td>\n",
       "      <td>30</td>\n",
       "      <td>0.166288</td>\n",
       "    </tr>\n",
       "    <tr>\n",
       "      <td>131539</td>\n",
       "      <td>11</td>\n",
       "      <td>C997608398</td>\n",
       "      <td>IN</td>\n",
       "      <td>438199.91</td>\n",
       "      <td>2547093.64</td>\n",
       "      <td>2985293.55</td>\n",
       "      <td>31</td>\n",
       "      <td>0.172039</td>\n",
       "    </tr>\n",
       "    <tr>\n",
       "      <td>134473</td>\n",
       "      <td>11</td>\n",
       "      <td>C997608398</td>\n",
       "      <td>OUT</td>\n",
       "      <td>218050.53</td>\n",
       "      <td>2985293.55</td>\n",
       "      <td>3203344.08</td>\n",
       "      <td>32</td>\n",
       "      <td>0.073042</td>\n",
       "    </tr>\n",
       "    <tr>\n",
       "      <td>172382</td>\n",
       "      <td>12</td>\n",
       "      <td>C997608398</td>\n",
       "      <td>OUT</td>\n",
       "      <td>361847.86</td>\n",
       "      <td>2767243.03</td>\n",
       "      <td>3129090.89</td>\n",
       "      <td>33</td>\n",
       "      <td>0.130761</td>\n",
       "    </tr>\n",
       "    <tr>\n",
       "      <td>198379</td>\n",
       "      <td>13</td>\n",
       "      <td>C997608398</td>\n",
       "      <td>IN</td>\n",
       "      <td>244838.84</td>\n",
       "      <td>2405395.17</td>\n",
       "      <td>2650234.01</td>\n",
       "      <td>34</td>\n",
       "      <td>0.101787</td>\n",
       "    </tr>\n",
       "    <tr>\n",
       "      <td>218263</td>\n",
       "      <td>13</td>\n",
       "      <td>C997608398</td>\n",
       "      <td>IN</td>\n",
       "      <td>1122468.02</td>\n",
       "      <td>2650234.00</td>\n",
       "      <td>3772702.02</td>\n",
       "      <td>35</td>\n",
       "      <td>0.423535</td>\n",
       "    </tr>\n",
       "    <tr>\n",
       "      <td>275277</td>\n",
       "      <td>15</td>\n",
       "      <td>C997608398</td>\n",
       "      <td>IN</td>\n",
       "      <td>1140859.00</td>\n",
       "      <td>3772702.03</td>\n",
       "      <td>4913561.03</td>\n",
       "      <td>36</td>\n",
       "      <td>0.302398</td>\n",
       "    </tr>\n",
       "    <tr>\n",
       "      <td>401286</td>\n",
       "      <td>18</td>\n",
       "      <td>C997608398</td>\n",
       "      <td>IN</td>\n",
       "      <td>700633.56</td>\n",
       "      <td>4913561.03</td>\n",
       "      <td>5614194.59</td>\n",
       "      <td>37</td>\n",
       "      <td>0.142592</td>\n",
       "    </tr>\n",
       "    <tr>\n",
       "      <td>406612</td>\n",
       "      <td>18</td>\n",
       "      <td>C997608398</td>\n",
       "      <td>IN</td>\n",
       "      <td>216007.43</td>\n",
       "      <td>5614194.59</td>\n",
       "      <td>5830202.02</td>\n",
       "      <td>38</td>\n",
       "      <td>0.038475</td>\n",
       "    </tr>\n",
       "    <tr>\n",
       "      <td>420265</td>\n",
       "      <td>18</td>\n",
       "      <td>C997608398</td>\n",
       "      <td>IN</td>\n",
       "      <td>165364.89</td>\n",
       "      <td>5830202.02</td>\n",
       "      <td>5995566.91</td>\n",
       "      <td>39</td>\n",
       "      <td>0.028363</td>\n",
       "    </tr>\n",
       "    <tr>\n",
       "      <td>440889</td>\n",
       "      <td>18</td>\n",
       "      <td>C997608398</td>\n",
       "      <td>OUT</td>\n",
       "      <td>453994.28</td>\n",
       "      <td>5995566.92</td>\n",
       "      <td>6449561.20</td>\n",
       "      <td>40</td>\n",
       "      <td>0.075722</td>\n",
       "    </tr>\n",
       "    <tr>\n",
       "      <td>586775</td>\n",
       "      <td>33</td>\n",
       "      <td>C997608398</td>\n",
       "      <td>IN</td>\n",
       "      <td>30731.77</td>\n",
       "      <td>5541572.64</td>\n",
       "      <td>5572304.41</td>\n",
       "      <td>41</td>\n",
       "      <td>0.005546</td>\n",
       "    </tr>\n",
       "    <tr>\n",
       "      <td>735379</td>\n",
       "      <td>38</td>\n",
       "      <td>C997608398</td>\n",
       "      <td>OUT</td>\n",
       "      <td>259669.72</td>\n",
       "      <td>5572304.41</td>\n",
       "      <td>5831974.13</td>\n",
       "      <td>42</td>\n",
       "      <td>0.046600</td>\n",
       "    </tr>\n",
       "    <tr>\n",
       "      <td>906940</td>\n",
       "      <td>43</td>\n",
       "      <td>C997608398</td>\n",
       "      <td>IN</td>\n",
       "      <td>139795.79</td>\n",
       "      <td>5312634.69</td>\n",
       "      <td>5452430.48</td>\n",
       "      <td>43</td>\n",
       "      <td>0.026314</td>\n",
       "    </tr>\n",
       "    <tr>\n",
       "      <td>1082117</td>\n",
       "      <td>129</td>\n",
       "      <td>C997608398</td>\n",
       "      <td>OUT</td>\n",
       "      <td>75427.02</td>\n",
       "      <td>5452430.48</td>\n",
       "      <td>5527857.50</td>\n",
       "      <td>44</td>\n",
       "      <td>0.013834</td>\n",
       "    </tr>\n",
       "    <tr>\n",
       "      <td>1093546</td>\n",
       "      <td>130</td>\n",
       "      <td>C997608398</td>\n",
       "      <td>IN</td>\n",
       "      <td>95318.73</td>\n",
       "      <td>5377003.46</td>\n",
       "      <td>5472322.19</td>\n",
       "      <td>45</td>\n",
       "      <td>0.017727</td>\n",
       "    </tr>\n",
       "    <tr>\n",
       "      <td>1255900</td>\n",
       "      <td>134</td>\n",
       "      <td>C997608398</td>\n",
       "      <td>IN</td>\n",
       "      <td>4144.34</td>\n",
       "      <td>5472322.18</td>\n",
       "      <td>5476466.52</td>\n",
       "      <td>46</td>\n",
       "      <td>0.000757</td>\n",
       "    </tr>\n",
       "    <tr>\n",
       "      <td>1532031</td>\n",
       "      <td>154</td>\n",
       "      <td>C997608398</td>\n",
       "      <td>OUT</td>\n",
       "      <td>295472.16</td>\n",
       "      <td>5476466.52</td>\n",
       "      <td>5771938.68</td>\n",
       "      <td>47</td>\n",
       "      <td>0.053953</td>\n",
       "    </tr>\n",
       "    <tr>\n",
       "      <td>1827461</td>\n",
       "      <td>163</td>\n",
       "      <td>C997608398</td>\n",
       "      <td>IN</td>\n",
       "      <td>68112.17</td>\n",
       "      <td>5180994.36</td>\n",
       "      <td>5249106.53</td>\n",
       "      <td>48</td>\n",
       "      <td>0.013147</td>\n",
       "    </tr>\n",
       "    <tr>\n",
       "      <td>1945161</td>\n",
       "      <td>177</td>\n",
       "      <td>C997608398</td>\n",
       "      <td>IN</td>\n",
       "      <td>200954.16</td>\n",
       "      <td>5249106.53</td>\n",
       "      <td>5450060.69</td>\n",
       "      <td>49</td>\n",
       "      <td>0.038283</td>\n",
       "    </tr>\n",
       "    <tr>\n",
       "      <td>2211444</td>\n",
       "      <td>186</td>\n",
       "      <td>C997608398</td>\n",
       "      <td>IN</td>\n",
       "      <td>360570.57</td>\n",
       "      <td>5450060.69</td>\n",
       "      <td>5810631.26</td>\n",
       "      <td>50</td>\n",
       "      <td>0.066159</td>\n",
       "    </tr>\n",
       "    <tr>\n",
       "      <td>2390285</td>\n",
       "      <td>201</td>\n",
       "      <td>C997608398</td>\n",
       "      <td>OUT</td>\n",
       "      <td>297567.01</td>\n",
       "      <td>5810631.27</td>\n",
       "      <td>6108198.28</td>\n",
       "      <td>51</td>\n",
       "      <td>0.051211</td>\n",
       "    </tr>\n",
       "    <tr>\n",
       "      <td>2866625</td>\n",
       "      <td>227</td>\n",
       "      <td>C997608398</td>\n",
       "      <td>IN</td>\n",
       "      <td>29194.30</td>\n",
       "      <td>5513064.26</td>\n",
       "      <td>5542258.56</td>\n",
       "      <td>52</td>\n",
       "      <td>0.005295</td>\n",
       "    </tr>\n",
       "    <tr>\n",
       "      <td>3056037</td>\n",
       "      <td>234</td>\n",
       "      <td>C997608398</td>\n",
       "      <td>IN</td>\n",
       "      <td>72328.16</td>\n",
       "      <td>5542258.56</td>\n",
       "      <td>5614586.72</td>\n",
       "      <td>53</td>\n",
       "      <td>0.013050</td>\n",
       "    </tr>\n",
       "    <tr>\n",
       "      <td>3815130</td>\n",
       "      <td>281</td>\n",
       "      <td>C997608398</td>\n",
       "      <td>OUT</td>\n",
       "      <td>45318.91</td>\n",
       "      <td>5614586.72</td>\n",
       "      <td>5659905.63</td>\n",
       "      <td>54</td>\n",
       "      <td>0.008072</td>\n",
       "    </tr>\n",
       "    <tr>\n",
       "      <td>4205250</td>\n",
       "      <td>305</td>\n",
       "      <td>C997608398</td>\n",
       "      <td>IN</td>\n",
       "      <td>116720.58</td>\n",
       "      <td>5569267.81</td>\n",
       "      <td>5685988.39</td>\n",
       "      <td>55</td>\n",
       "      <td>0.020958</td>\n",
       "    </tr>\n",
       "    <tr>\n",
       "      <td>4539288</td>\n",
       "      <td>326</td>\n",
       "      <td>C997608398</td>\n",
       "      <td>IN</td>\n",
       "      <td>205596.20</td>\n",
       "      <td>5685988.40</td>\n",
       "      <td>5891584.60</td>\n",
       "      <td>56</td>\n",
       "      <td>0.036158</td>\n",
       "    </tr>\n",
       "    <tr>\n",
       "      <td>4617001</td>\n",
       "      <td>329</td>\n",
       "      <td>C997608398</td>\n",
       "      <td>IN</td>\n",
       "      <td>110868.66</td>\n",
       "      <td>5891584.60</td>\n",
       "      <td>6002453.26</td>\n",
       "      <td>57</td>\n",
       "      <td>0.018818</td>\n",
       "    </tr>\n",
       "    <tr>\n",
       "      <td>5527700</td>\n",
       "      <td>381</td>\n",
       "      <td>C997608398</td>\n",
       "      <td>OUT</td>\n",
       "      <td>128600.79</td>\n",
       "      <td>6002453.26</td>\n",
       "      <td>6131054.05</td>\n",
       "      <td>58</td>\n",
       "      <td>0.021425</td>\n",
       "    </tr>\n",
       "    <tr>\n",
       "      <td>5749478</td>\n",
       "      <td>399</td>\n",
       "      <td>C997608398</td>\n",
       "      <td>IN</td>\n",
       "      <td>142119.64</td>\n",
       "      <td>5873852.48</td>\n",
       "      <td>6015972.12</td>\n",
       "      <td>59</td>\n",
       "      <td>0.024195</td>\n",
       "    </tr>\n",
       "  </tbody>\n",
       "</table>\n",
       "</div>"
      ],
      "text/plain": [
       "         step    nameDest type      amount  oldbalanceDest  newbalanceDest  \\\n",
       "10          1  C997608398   IN     9644.94        10845.00        20489.94   \n",
       "781         1  C997608398   IN   345698.98        20489.94       366188.92   \n",
       "807         1  C997608398   IN     1741.24       366188.92       367930.16   \n",
       "861         1  C997608398   IN   155122.86       367930.17       523053.03   \n",
       "925         1  C997608398   IN   251241.14       523053.03       774294.17   \n",
       "1360        1  C997608398   IN   286803.50       774294.17      1061097.67   \n",
       "1395        1  C997608398   IN    70543.76      1061097.67      1131641.43   \n",
       "1706        1  C997608398  OUT   235362.23      1128757.61      1364119.84   \n",
       "1718        1  C997608398  OUT   532111.14       893395.39      1425506.53   \n",
       "1854        1  C997608398   IN    63557.19       361284.25       424841.44   \n",
       "2068        1  C997608398   IN    79386.85       424841.44       504228.29   \n",
       "2131        1  C997608398  OUT   283561.25       504228.28       787789.53   \n",
       "2251        1  C997608398  OUT    62684.91       220667.03       283351.94   \n",
       "4170        3  C997608398   IN    87674.26       157982.12       245656.38   \n",
       "4311        4  C997608398  OUT   130708.05       245656.38       376364.43   \n",
       "4330        4  C997608398  OUT    48951.75       114948.33       163900.08   \n",
       "4359        4  C997608398   IN    58046.34        65996.58       124042.92   \n",
       "5475        5  C997608398   IN    33985.61       124042.91       158028.52   \n",
       "5585        6  C997608398   IN   139845.98       158028.52       297874.50   \n",
       "5671        6  C997608398  OUT   291681.95       297874.50       589556.45   \n",
       "14678       8  C997608398   IN   774963.40         6192.55       781155.95   \n",
       "23351       8  C997608398   IN    17288.04       781155.95       798443.99   \n",
       "28289       8  C997608398   IN   255477.34       798443.99      1053921.33   \n",
       "30291       8  C997608398   IN   237497.35      1053921.33      1291418.68   \n",
       "35914       9  C997608398   IN   208617.96      1291418.68      1500036.64   \n",
       "43067       9  C997608398   IN   134499.76      1500036.63      1634536.39   \n",
       "44682       9  C997608398   IN   570715.04      1634536.39      2205251.43   \n",
       "47532       9  C997608398   IN   147225.04      2205251.43      2352476.47   \n",
       "70564       9  C997608398  OUT   168545.26      2352476.47      2521021.73   \n",
       "86515      10  C997608398   IN   363162.43      2183931.22      2547093.65   \n",
       "131539     11  C997608398   IN   438199.91      2547093.64      2985293.55   \n",
       "134473     11  C997608398  OUT   218050.53      2985293.55      3203344.08   \n",
       "172382     12  C997608398  OUT   361847.86      2767243.03      3129090.89   \n",
       "198379     13  C997608398   IN   244838.84      2405395.17      2650234.01   \n",
       "218263     13  C997608398   IN  1122468.02      2650234.00      3772702.02   \n",
       "275277     15  C997608398   IN  1140859.00      3772702.03      4913561.03   \n",
       "401286     18  C997608398   IN   700633.56      4913561.03      5614194.59   \n",
       "406612     18  C997608398   IN   216007.43      5614194.59      5830202.02   \n",
       "420265     18  C997608398   IN   165364.89      5830202.02      5995566.91   \n",
       "440889     18  C997608398  OUT   453994.28      5995566.92      6449561.20   \n",
       "586775     33  C997608398   IN    30731.77      5541572.64      5572304.41   \n",
       "735379     38  C997608398  OUT   259669.72      5572304.41      5831974.13   \n",
       "906940     43  C997608398   IN   139795.79      5312634.69      5452430.48   \n",
       "1082117   129  C997608398  OUT    75427.02      5452430.48      5527857.50   \n",
       "1093546   130  C997608398   IN    95318.73      5377003.46      5472322.19   \n",
       "1255900   134  C997608398   IN     4144.34      5472322.18      5476466.52   \n",
       "1532031   154  C997608398  OUT   295472.16      5476466.52      5771938.68   \n",
       "1827461   163  C997608398   IN    68112.17      5180994.36      5249106.53   \n",
       "1945161   177  C997608398   IN   200954.16      5249106.53      5450060.69   \n",
       "2211444   186  C997608398   IN   360570.57      5450060.69      5810631.26   \n",
       "2390285   201  C997608398  OUT   297567.01      5810631.27      6108198.28   \n",
       "2866625   227  C997608398   IN    29194.30      5513064.26      5542258.56   \n",
       "3056037   234  C997608398   IN    72328.16      5542258.56      5614586.72   \n",
       "3815130   281  C997608398  OUT    45318.91      5614586.72      5659905.63   \n",
       "4205250   305  C997608398   IN   116720.58      5569267.81      5685988.39   \n",
       "4539288   326  C997608398   IN   205596.20      5685988.40      5891584.60   \n",
       "4617001   329  C997608398   IN   110868.66      5891584.60      6002453.26   \n",
       "5527700   381  C997608398  OUT   128600.79      6002453.26      6131054.05   \n",
       "5749478   399  C997608398   IN   142119.64      5873852.48      6015972.12   \n",
       "\n",
       "         time_refer  relative_delta  \n",
       "10                1        0.889344  \n",
       "781               2       16.871644  \n",
       "807               3        0.004755  \n",
       "861               4        0.421610  \n",
       "925               5        0.480336  \n",
       "1360              6        0.370406  \n",
       "1395              7        0.066482  \n",
       "1706              8        0.208514  \n",
       "1718              9        0.595605  \n",
       "1854             10        0.175920  \n",
       "2068             11        0.186862  \n",
       "2131             12        0.562367  \n",
       "2251             13        0.284070  \n",
       "4170             14        0.554963  \n",
       "4311             15        0.532077  \n",
       "4330             16        0.425859  \n",
       "4359             17        0.879536  \n",
       "5475             18        0.273983  \n",
       "5585             19        0.884941  \n",
       "5671             20        0.979211  \n",
       "14678            21      125.144472  \n",
       "23351            22        0.022131  \n",
       "28289            23        0.319969  \n",
       "30291            24        0.225346  \n",
       "35914            25        0.161542  \n",
       "43067            26        0.089664  \n",
       "44682            27        0.349160  \n",
       "47532            28        0.066761  \n",
       "70564            29        0.071646  \n",
       "86515            30        0.166288  \n",
       "131539           31        0.172039  \n",
       "134473           32        0.073042  \n",
       "172382           33        0.130761  \n",
       "198379           34        0.101787  \n",
       "218263           35        0.423535  \n",
       "275277           36        0.302398  \n",
       "401286           37        0.142592  \n",
       "406612           38        0.038475  \n",
       "420265           39        0.028363  \n",
       "440889           40        0.075722  \n",
       "586775           41        0.005546  \n",
       "735379           42        0.046600  \n",
       "906940           43        0.026314  \n",
       "1082117          44        0.013834  \n",
       "1093546          45        0.017727  \n",
       "1255900          46        0.000757  \n",
       "1532031          47        0.053953  \n",
       "1827461          48        0.013147  \n",
       "1945161          49        0.038283  \n",
       "2211444          50        0.066159  \n",
       "2390285          51        0.051211  \n",
       "2866625          52        0.005295  \n",
       "3056037          53        0.013050  \n",
       "3815130          54        0.008072  \n",
       "4205250          55        0.020958  \n",
       "4539288          56        0.036158  \n",
       "4617001          57        0.018818  \n",
       "5527700          58        0.021425  \n",
       "5749478          59        0.024195  "
      ]
     },
     "execution_count": 19,
     "metadata": {},
     "output_type": "execute_result"
    }
   ],
   "source": [
    "model_data[model_data[\"nameDest\"] == 'C997608398']"
   ]
  },
  {
   "cell_type": "markdown",
   "metadata": {},
   "source": [
    "### 10. Visualizações temporais do saldo da conta, maiores operações \n",
    "### financeiras e variação do patrimônio"
   ]
  },
  {
   "cell_type": "code",
   "execution_count": 20,
   "metadata": {},
   "outputs": [
    {
     "data": {
      "text/plain": [
       "<matplotlib.axes._subplots.AxesSubplot at 0x1f8cee3cc08>"
      ]
     },
     "execution_count": 20,
     "metadata": {},
     "output_type": "execute_result"
    },
    {
     "data": {
      "image/png": "[encoded data removed]",
      "text/plain": [
       "<Figure size 720x720 with 1 Axes>"
      ]
     },
     "metadata": {
      "needs_background": "light"
     },
     "output_type": "display_data"
    }
   ],
   "source": [
    "example_instance = model_data[model_data[\"nameDest\"] == 'C997608398']\n",
    "example_instance.plot(x='time_refer', \n",
    "                      y=\"newbalanceDest\", \n",
    "                      figsize=(10, 10))"
   ]
  },
  {
   "cell_type": "code",
   "execution_count": 21,
   "metadata": {},
   "outputs": [
    {
     "data": {
      "text/plain": [
       "<matplotlib.axes._subplots.AxesSubplot at 0x1f8db6f40c8>"
      ]
     },
     "execution_count": 21,
     "metadata": {},
     "output_type": "execute_result"
    },
    {
     "data": {
      "image/png": "[encoded data removed]",
      "text/plain": [
       "<Figure size 720x720 with 1 Axes>"
      ]
     },
     "metadata": {
      "needs_background": "light"
     },
     "output_type": "display_data"
    }
   ],
   "source": [
    "example_instance.plot(x='time_refer', \n",
    "                      y=\"amount\",        \n",
    "                      figsize=(10, 10))"
   ]
  },
  {
   "cell_type": "code",
   "execution_count": 22,
   "metadata": {},
   "outputs": [
    {
     "data": {
      "text/plain": [
       "<matplotlib.axes._subplots.AxesSubplot at 0x1f8b3f0e288>"
      ]
     },
     "execution_count": 22,
     "metadata": {},
     "output_type": "execute_result"
    },
    {
     "data": {
      "image/png": "[encoded data removed]",
      "text/plain": [
       "<Figure size 720x720 with 1 Axes>"
      ]
     },
     "metadata": {
      "needs_background": "light"
     },
     "output_type": "display_data"
    }
   ],
   "source": [
    "example_instance.plot(x='time_refer', \n",
    "                      y=\"relative_delta\", \n",
    "                      figsize=(10, 10))"
   ]
  },
  {
   "cell_type": "markdown",
   "metadata": {},
   "source": [
    "### 11. Criação do dataset final para modelagem, separando em treino e teste:"
   ]
  },
  {
   "cell_type": "code",
   "execution_count": 23,
   "metadata": {},
   "outputs": [],
   "source": [
    "# Agrupamento de todas as features em entrada e saída de dinheiro (IN/OUT)\n",
    "model_data = model_data.groupby(['nameDest', 'type']).sum().unstack()"
   ]
  },
  {
   "cell_type": "code",
   "execution_count": 91,
   "metadata": {},
   "outputs": [
    {
     "name": "stdout",
     "output_type": "stream",
     "text": [
      "1084\n",
      "121\n"
     ]
    }
   ],
   "source": [
    "# Split de 90% no treino e 10% no teste\n",
    "train_data = model_data[:int(len(model_data)*0.9)]\n",
    "test_data = model_data[int(len(model_data)*0.9):]\n",
    "\n",
    "print(train_data.shape[0])\n",
    "print(test_data.shape[0])"
   ]
  },
  {
   "cell_type": "code",
   "execution_count": 92,
   "metadata": {},
   "outputs": [
    {
     "data": {
      "text/html": [
       "<div>\n",
       "<style scoped>\n",
       "    .dataframe tbody tr th:only-of-type {\n",
       "        vertical-align: middle;\n",
       "    }\n",
       "\n",
       "    .dataframe tbody tr th {\n",
       "        vertical-align: top;\n",
       "    }\n",
       "\n",
       "    .dataframe thead tr th {\n",
       "        text-align: left;\n",
       "    }\n",
       "\n",
       "    .dataframe thead tr:last-of-type th {\n",
       "        text-align: right;\n",
       "    }\n",
       "</style>\n",
       "<table border=\"1\" class=\"dataframe\">\n",
       "  <thead>\n",
       "    <tr>\n",
       "      <th></th>\n",
       "      <th colspan=\"2\" halign=\"left\">step</th>\n",
       "      <th colspan=\"2\" halign=\"left\">amount</th>\n",
       "      <th colspan=\"2\" halign=\"left\">oldbalanceDest</th>\n",
       "      <th colspan=\"2\" halign=\"left\">newbalanceDest</th>\n",
       "      <th colspan=\"2\" halign=\"left\">time_refer</th>\n",
       "      <th colspan=\"2\" halign=\"left\">relative_delta</th>\n",
       "    </tr>\n",
       "    <tr>\n",
       "      <th>type</th>\n",
       "      <th>IN</th>\n",
       "      <th>OUT</th>\n",
       "      <th>IN</th>\n",
       "      <th>OUT</th>\n",
       "      <th>IN</th>\n",
       "      <th>OUT</th>\n",
       "      <th>IN</th>\n",
       "      <th>OUT</th>\n",
       "      <th>IN</th>\n",
       "      <th>OUT</th>\n",
       "      <th>IN</th>\n",
       "      <th>OUT</th>\n",
       "    </tr>\n",
       "    <tr>\n",
       "      <th>nameDest</th>\n",
       "      <th></th>\n",
       "      <th></th>\n",
       "      <th></th>\n",
       "      <th></th>\n",
       "      <th></th>\n",
       "      <th></th>\n",
       "      <th></th>\n",
       "      <th></th>\n",
       "      <th></th>\n",
       "      <th></th>\n",
       "      <th></th>\n",
       "      <th></th>\n",
       "    </tr>\n",
       "  </thead>\n",
       "  <tbody>\n",
       "    <tr>\n",
       "      <td>C1001367899</td>\n",
       "      <td>2970</td>\n",
       "      <td>1417</td>\n",
       "      <td>8746361.82</td>\n",
       "      <td>2149206.59</td>\n",
       "      <td>1.307882e+08</td>\n",
       "      <td>4.320168e+07</td>\n",
       "      <td>1.395345e+08</td>\n",
       "      <td>4.535089e+07</td>\n",
       "      <td>1045</td>\n",
       "      <td>333</td>\n",
       "      <td>11.189560</td>\n",
       "      <td>1.750264</td>\n",
       "    </tr>\n",
       "    <tr>\n",
       "      <td>C1003872245</td>\n",
       "      <td>3358</td>\n",
       "      <td>1673</td>\n",
       "      <td>9553125.31</td>\n",
       "      <td>3091279.96</td>\n",
       "      <td>1.123380e+08</td>\n",
       "      <td>5.851853e+07</td>\n",
       "      <td>1.218911e+08</td>\n",
       "      <td>6.160981e+07</td>\n",
       "      <td>1116</td>\n",
       "      <td>537</td>\n",
       "      <td>10.983665</td>\n",
       "      <td>1.816247</td>\n",
       "    </tr>\n",
       "    <tr>\n",
       "      <td>C1005928818</td>\n",
       "      <td>4086</td>\n",
       "      <td>1056</td>\n",
       "      <td>41442634.93</td>\n",
       "      <td>2600426.09</td>\n",
       "      <td>3.081006e+08</td>\n",
       "      <td>7.496590e+07</td>\n",
       "      <td>3.495433e+08</td>\n",
       "      <td>7.756633e+07</td>\n",
       "      <td>1205</td>\n",
       "      <td>335</td>\n",
       "      <td>31.612169</td>\n",
       "      <td>3.558262</td>\n",
       "    </tr>\n",
       "    <tr>\n",
       "      <td>C1013700132</td>\n",
       "      <td>3899</td>\n",
       "      <td>808</td>\n",
       "      <td>23042271.18</td>\n",
       "      <td>4054614.81</td>\n",
       "      <td>5.150695e+08</td>\n",
       "      <td>1.667069e+08</td>\n",
       "      <td>5.381118e+08</td>\n",
       "      <td>1.707615e+08</td>\n",
       "      <td>1954</td>\n",
       "      <td>602</td>\n",
       "      <td>5.617376</td>\n",
       "      <td>1.283702</td>\n",
       "    </tr>\n",
       "    <tr>\n",
       "      <td>C1014154376</td>\n",
       "      <td>2630</td>\n",
       "      <td>1520</td>\n",
       "      <td>20376736.03</td>\n",
       "      <td>3572398.57</td>\n",
       "      <td>5.376672e+08</td>\n",
       "      <td>3.220407e+08</td>\n",
       "      <td>5.580440e+08</td>\n",
       "      <td>3.256131e+08</td>\n",
       "      <td>925</td>\n",
       "      <td>560</td>\n",
       "      <td>1.498432</td>\n",
       "      <td>0.634383</td>\n",
       "    </tr>\n",
       "  </tbody>\n",
       "</table>\n",
       "</div>"
      ],
      "text/plain": [
       "             step             amount             oldbalanceDest                \\\n",
       "type           IN   OUT           IN         OUT             IN           OUT   \n",
       "nameDest                                                                        \n",
       "C1001367899  2970  1417   8746361.82  2149206.59   1.307882e+08  4.320168e+07   \n",
       "C1003872245  3358  1673   9553125.31  3091279.96   1.123380e+08  5.851853e+07   \n",
       "C1005928818  4086  1056  41442634.93  2600426.09   3.081006e+08  7.496590e+07   \n",
       "C1013700132  3899   808  23042271.18  4054614.81   5.150695e+08  1.667069e+08   \n",
       "C1014154376  2630  1520  20376736.03  3572398.57   5.376672e+08  3.220407e+08   \n",
       "\n",
       "            newbalanceDest               time_refer      relative_delta  \\\n",
       "type                    IN           OUT         IN  OUT             IN   \n",
       "nameDest                                                                  \n",
       "C1001367899   1.395345e+08  4.535089e+07       1045  333      11.189560   \n",
       "C1003872245   1.218911e+08  6.160981e+07       1116  537      10.983665   \n",
       "C1005928818   3.495433e+08  7.756633e+07       1205  335      31.612169   \n",
       "C1013700132   5.381118e+08  1.707615e+08       1954  602       5.617376   \n",
       "C1014154376   5.580440e+08  3.256131e+08        925  560       1.498432   \n",
       "\n",
       "                       \n",
       "type              OUT  \n",
       "nameDest               \n",
       "C1001367899  1.750264  \n",
       "C1003872245  1.816247  \n",
       "C1005928818  3.558262  \n",
       "C1013700132  1.283702  \n",
       "C1014154376  0.634383  "
      ]
     },
     "execution_count": 92,
     "metadata": {},
     "output_type": "execute_result"
    }
   ],
   "source": [
    "train_data.head()"
   ]
  },
  {
   "cell_type": "markdown",
   "metadata": {},
   "source": [
    "### 12. Modelagem (k-means)\n",
    "\n",
    "Kmeans é um modelo não supervisionado que inicia K centróides aleatórios no\n",
    "espaço amostral. Na primeira interação, é medido quais as instâncias do \n",
    "dataset de treino mais se aproximam desses pontos gerados. Após esse\n",
    "cálculo, os centróides são reposicionados para a posição central dos pontos\n",
    "mais próximos. Esse flxo é executado até a convergência total do modelo \n",
    "ou determinação do usuário"
   ]
  },
  {
   "cell_type": "code",
   "execution_count": 164,
   "metadata": {},
   "outputs": [
    {
     "name": "stderr",
     "output_type": "stream",
     "text": [
      "C:\\Users\\alexa\\.conda\\envs\\tensorflow\\lib\\site-packages\\ipykernel_launcher.py:3: SettingWithCopyWarning: \n",
      "A value is trying to be set on a copy of a slice from a DataFrame.\n",
      "Try using .loc[row_indexer,col_indexer] = value instead\n",
      "\n",
      "See the caveats in the documentation: http://pandas.pydata.org/pandas-docs/stable/user_guide/indexing.html#returning-a-view-versus-a-copy\n",
      "  This is separate from the ipykernel package so we can avoid doing imports until\n"
     ]
    }
   ],
   "source": [
    "# Conversão dos números de saída para positovo (facilitar a visualização)\n",
    "x_train = train_data[[ ('amount', 'OUT'), ('amount', 'IN')]]\n",
    "x_train[('amount', 'OUT')] = x_train[('amount', 'OUT')]*10#*-1"
   ]
  },
  {
   "cell_type": "code",
   "execution_count": 165,
   "metadata": {},
   "outputs": [],
   "source": [
    "inertia_scores = calculate_wcss(x_train)"
   ]
  },
  {
   "cell_type": "code",
   "execution_count": 166,
   "metadata": {},
   "outputs": [
    {
     "data": {
      "text/plain": [
       "<matplotlib.axes._subplots.AxesSubplot at 0x1f8ccf44508>"
      ]
     },
     "execution_count": 166,
     "metadata": {},
     "output_type": "execute_result"
    },
    {
     "data": {
      "image/png": "[encoded data removed]",
      "text/plain": [
       "<Figure size 720x720 with 1 Axes>"
      ]
     },
     "metadata": {},
     "output_type": "display_data"
    }
   ],
   "source": [
    "pd.DataFrame(inertia_scores).plot(figsize=(10, 10))"
   ]
  },
  {
   "cell_type": "code",
   "execution_count": 167,
   "metadata": {},
   "outputs": [
    {
     "name": "stdout",
     "output_type": "stream",
     "text": [
      "Número de Cluster = 6\n"
     ]
    }
   ],
   "source": [
    "n = get_best_number_clusters(inertia_scores)\n",
    "print(f\"Número de Cluster = {n}\")"
   ]
  },
  {
   "cell_type": "code",
   "execution_count": 172,
   "metadata": {},
   "outputs": [
    {
     "data": {
      "image/png": "[encoded data removed]",
      "text/plain": [
       "<Figure size 1080x432 with 1 Axes>"
      ]
     },
     "metadata": {},
     "output_type": "display_data"
    }
   ],
   "source": [
    "model = kmeans(x_train[[('amount','OUT'),('amount','IN')]], 6)"
   ]
  },
  {
   "cell_type": "code",
   "execution_count": 83,
   "metadata": {},
   "outputs": [
    {
     "name": "stderr",
     "output_type": "stream",
     "text": [
      "C:\\Users\\alexa\\.conda\\envs\\tensorflow\\lib\\site-packages\\ipykernel_launcher.py:120: SettingWithCopyWarning: \n",
      "A value is trying to be set on a copy of a slice from a DataFrame.\n",
      "Try using .loc[row_indexer,col_indexer] = value instead\n",
      "\n",
      "See the caveats in the documentation: http://pandas.pydata.org/pandas-docs/stable/user_guide/indexing.html#returning-a-view-versus-a-copy\n",
      "No handles with labels found to put in legend.\n"
     ]
    },
    {
     "data": {
      "text/plain": [
       "KMeans(algorithm='auto', copy_x=True, init='k-means++', max_iter=300,\n",
       "       n_clusters=6, n_init=10, n_jobs=None, precompute_distances='auto',\n",
       "       random_state=42, tol=0.0001, verbose=0)"
      ]
     },
     "execution_count": 83,
     "metadata": {},
     "output_type": "execute_result"
    },
    {
     "data": {
      "image/png": "[encoded data removed]",
      "text/plain": [
       "<Figure size 1080x432 with 1 Axes>"
      ]
     },
     "metadata": {},
     "output_type": "display_data"
    }
   ],
   "source": [
    "kmeans_norm(x_train, n)"
   ]
  },
  {
   "cell_type": "code",
   "execution_count": 84,
   "metadata": {},
   "outputs": [
    {
     "name": "stderr",
     "output_type": "stream",
     "text": [
      "C:\\Users\\alexa\\.conda\\envs\\tensorflow\\lib\\site-packages\\ipykernel_launcher.py:2: SettingWithCopyWarning: \n",
      "A value is trying to be set on a copy of a slice from a DataFrame.\n",
      "Try using .loc[row_indexer,col_indexer] = value instead\n",
      "\n",
      "See the caveats in the documentation: http://pandas.pydata.org/pandas-docs/stable/user_guide/indexing.html#returning-a-view-versus-a-copy\n",
      "  \n"
     ]
    }
   ],
   "source": [
    "x_train = train_data[[ ('relative_delta', 'OUT'), ('relative_delta', 'IN')]]\n",
    "x_train[('relative_delta', 'OUT')] = x_train[('relative_delta', 'OUT')]*-1"
   ]
  },
  {
   "cell_type": "code",
   "execution_count": 85,
   "metadata": {},
   "outputs": [],
   "source": [
    "inertia_scores = calculate_wcss(x_train)"
   ]
  },
  {
   "cell_type": "code",
   "execution_count": 41,
   "metadata": {},
   "outputs": [
    {
     "data": {
      "text/plain": [
       "<matplotlib.axes._subplots.AxesSubplot at 0x1f8b46efe08>"
      ]
     },
     "execution_count": 41,
     "metadata": {},
     "output_type": "execute_result"
    },
    {
     "data": {
      "image/png": "[encoded data removed]",
      "text/plain": [
       "<Figure size 720x720 with 1 Axes>"
      ]
     },
     "metadata": {},
     "output_type": "display_data"
    }
   ],
   "source": [
    "pd.DataFrame(inertia_scores).plot(figsize=(10, 10))"
   ]
  },
  {
   "cell_type": "code",
   "execution_count": 86,
   "metadata": {},
   "outputs": [
    {
     "name": "stdout",
     "output_type": "stream",
     "text": [
      "Número de Cluster = 5\n"
     ]
    }
   ],
   "source": [
    "n = get_best_number_clusters(inertia_scores)\n",
    "print(f\"Número de Cluster = {n}\")"
   ]
  },
  {
   "cell_type": "code",
   "execution_count": 180,
   "metadata": {},
   "outputs": [],
   "source": [
    "kmeans(x_train, n)"
   ]
  },
  {
   "cell_type": "code",
   "execution_count": 181,
   "metadata": {},
   "outputs": [],
   "source": [
    "x_train['kmeans'] = model.labels_\n"
   ]
  },
  {
   "cell_type": "code",
   "execution_count": null,
   "metadata": {},
   "outputs": [],
   "source": [
    "import matplotlib.pyplot as plt\n",
    "\n",
    "fig = plt.figure(figsize=(15,6))\n",
    "ax = fig.add_subplot(111)\n",
    "scatter = ax.scatter(x_train[('relative_delta', 'IN')], x_train[('relative_delta', 'OUT')], c=x_train['kmeans'], s=50)\n",
    "\n",
    "plt.legend()\n",
    "ax.set_title('Clustering')\n",
    "ax.set_xlabel('IN')\n",
    "ax.set_ylabel('OUT')"
   ]
  },
  {
   "cell_type": "markdown",
   "metadata": {},
   "source": [
    "# Teste"
   ]
  },
  {
   "cell_type": "markdown",
   "metadata": {},
   "source": [
    "### Definindo dicionário de cores e labels para o plot"
   ]
  },
  {
   "cell_type": "code",
   "execution_count": 176,
   "metadata": {},
   "outputs": [
    {
     "name": "stderr",
     "output_type": "stream",
     "text": [
      "C:\\Users\\alexa\\.conda\\envs\\tensorflow\\lib\\site-packages\\ipykernel_launcher.py:3: SettingWithCopyWarning: \n",
      "A value is trying to be set on a copy of a slice from a DataFrame.\n",
      "Try using .loc[row_indexer,col_indexer] = value instead\n",
      "\n",
      "See the caveats in the documentation: http://pandas.pydata.org/pandas-docs/stable/user_guide/indexing.html#returning-a-view-versus-a-copy\n",
      "  This is separate from the ipykernel package so we can avoid doing imports until\n"
     ]
    }
   ],
   "source": [
    "# Conversão dos números de saída para positovo (facilitar a visualização)\n",
    "x_test = test_data[[ ('amount', 'OUT'), ('amount', 'IN')]]\n",
    "x_test[('amount', 'OUT')] = x_test[('amount', 'OUT')]*10#*-1"
   ]
  },
  {
   "cell_type": "code",
   "execution_count": 177,
   "metadata": {},
   "outputs": [],
   "source": [
    "#Dicionarios\n",
    "cdict = {0: 'gold', 1: 'lime', 2: 'red',3: 'firebrick',4: 'green', 5: 'goldenrod'}\n",
    "ldict = {0: 'Neutro Perfil 1', 1: 'Investidor', 2: 'Inadimplente',3: 'Possivel Inadimplente',4: 'Possivel Investidor', 5: 'Neutro Perfil 2'}"
   ]
  },
  {
   "cell_type": "code",
   "execution_count": 178,
   "metadata": {},
   "outputs": [
    {
     "name": "stderr",
     "output_type": "stream",
     "text": [
      "C:\\Users\\alexa\\.conda\\envs\\tensorflow\\lib\\site-packages\\ipykernel_launcher.py:118: SettingWithCopyWarning: \n",
      "A value is trying to be set on a copy of a slice from a DataFrame.\n",
      "Try using .loc[row_indexer,col_indexer] = value instead\n",
      "\n",
      "See the caveats in the documentation: http://pandas.pydata.org/pandas-docs/stable/user_guide/indexing.html#returning-a-view-versus-a-copy\n"
     ]
    },
    {
     "data": {
      "text/plain": [
       "KMeans(algorithm='auto', copy_x=True, init='k-means++', max_iter=300,\n",
       "       n_clusters=6, n_init=10, n_jobs=None, precompute_distances='auto',\n",
       "       random_state=42, tol=0.0001, verbose=0)"
      ]
     },
     "execution_count": 178,
     "metadata": {},
     "output_type": "execute_result"
    },
    {
     "data": {
      "image/png": "[encoded data removed]",
      "text/plain": [
       "<Figure size 1080x432 with 1 Axes>"
      ]
     },
     "metadata": {},
     "output_type": "display_data"
    }
   ],
   "source": [
    "kmeans_test(x_test,model,cdict,ldict)"
   ]
  },
  {
   "cell_type": "markdown",
   "metadata": {},
   "source": [
    "Caso falhe a execução, rodar a composição do x_test de novo"
   ]
  },
  {
   "cell_type": "markdown",
   "metadata": {},
   "source": [
    "# Exportando modelo"
   ]
  },
  {
   "cell_type": "code",
   "execution_count": 179,
   "metadata": {},
   "outputs": [],
   "source": [
    "import pickle\n",
    "\n",
    "filename = 'Kmeans.sav'\n",
    "pickle.dump(model, open(filename, 'wb'))"
   ]
  }
 ],
 "metadata": {
  "kernelspec": {
   "display_name": "Python 3",
   "language": "python",
   "name": "python3"
  },
  "language_info": {
   "codemirror_mode": {
    "name": "ipython",
    "version": 3
   },
   "file_extension": ".py",
   "mimetype": "text/x-python",
   "name": "python",
   "nbconvert_exporter": "python",
   "pygments_lexer": "ipython3",
   "version": "3.7.4"
  }
 },
 "nbformat": 4,
 "nbformat_minor": 2
}
